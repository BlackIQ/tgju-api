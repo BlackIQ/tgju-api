{
 "cells": [
  {
   "cell_type": "code",
   "execution_count": 1,
   "id": "9cafc7e8",
   "metadata": {},
   "outputs": [],
   "source": [
    "import requests\n",
    "from bs4 import BeautifulSoup\n",
    "\n",
    "import pandas as pd"
   ]
  },
  {
   "cell_type": "code",
   "execution_count": 2,
   "id": "55847bab",
   "metadata": {},
   "outputs": [],
   "source": [
    "url = \"https://www.tgju.org/gold-chart\"\n",
    "\n",
    "r = requests.get(url)\n",
    "\n",
    "soup = BeautifulSoup(r.content, 'html.parser')"
   ]
  },
  {
   "cell_type": "code",
   "execution_count": 3,
   "id": "a1bf00e7",
   "metadata": {},
   "outputs": [
    {
     "data": {
      "text/html": [
       "<div>\n",
       "<style scoped>\n",
       "    .dataframe tbody tr th:only-of-type {\n",
       "        vertical-align: middle;\n",
       "    }\n",
       "\n",
       "    .dataframe tbody tr th {\n",
       "        vertical-align: top;\n",
       "    }\n",
       "\n",
       "    .dataframe thead th {\n",
       "        text-align: right;\n",
       "    }\n",
       "</style>\n",
       "<table border=\"1\" class=\"dataframe\">\n",
       "  <thead>\n",
       "    <tr style=\"text-align: right;\">\n",
       "      <th></th>\n",
       "      <th>title</th>\n",
       "      <th>prices</th>\n",
       "    </tr>\n",
       "  </thead>\n",
       "  <tbody>\n",
       "    <tr>\n",
       "      <th>0</th>\n",
       "      <td>قیمت طلا</td>\n",
       "      <td>[{'title': 'طلای 18 عیار / 750', 'price': '24,...</td>\n",
       "    </tr>\n",
       "    <tr>\n",
       "      <th>1</th>\n",
       "      <td>مظنه / مثقال طلا</td>\n",
       "      <td>[{'title': 'مثقال طلا ', 'price': '108,140,000...</td>\n",
       "    </tr>\n",
       "    <tr>\n",
       "      <th>2</th>\n",
       "      <td>قیمت آبشده</td>\n",
       "      <td>[{'title': 'آبشده نقدی', 'price': '108,110,000...</td>\n",
       "    </tr>\n",
       "    <tr>\n",
       "      <th>3</th>\n",
       "      <td>قیمت نقره</td>\n",
       "      <td>[{'title': 'گرم نقره ۹۲۵', 'price': '347,980'}...</td>\n",
       "    </tr>\n",
       "    <tr>\n",
       "      <th>4</th>\n",
       "      <td>طلا در بورس</td>\n",
       "      <td>[{'title': 'صندوق طلای مفید', 'price': '75,989...</td>\n",
       "    </tr>\n",
       "  </tbody>\n",
       "</table>\n",
       "</div>"
      ],
      "text/plain": [
       "              title                                             prices\n",
       "0          قیمت طلا  [{'title': 'طلای 18 عیار / 750', 'price': '24,...\n",
       "1  مظنه / مثقال طلا  [{'title': 'مثقال طلا ', 'price': '108,140,000...\n",
       "2        قیمت آبشده  [{'title': 'آبشده نقدی', 'price': '108,110,000...\n",
       "3         قیمت نقره  [{'title': 'گرم نقره ۹۲۵', 'price': '347,980'}...\n",
       "4       طلا در بورس  [{'title': 'صندوق طلای مفید', 'price': '75,989..."
      ]
     },
     "execution_count": 3,
     "metadata": {},
     "output_type": "execute_result"
    }
   ],
   "source": [
    "tables = soup.find_all('table', class_='market-table')\n",
    "\n",
    "out = []\n",
    "\n",
    "for table in tables:\n",
    "    body = table.find('tbody')\n",
    "    rows = body.find_all('tr')\n",
    "    \n",
    "    title = table.find('th').text\n",
    "    \n",
    "    prices = []\n",
    "    \n",
    "    for item in rows:\n",
    "        item_title = item.find('th').text\n",
    "        item_price = item.find('td', class_='nf').text\n",
    "        \n",
    "        prices.append({'title': item_title, 'price': item_price})\n",
    "    \n",
    "    out.append({'title': title, 'prices': prices})\n",
    "    \n",
    "df = pd.DataFrame(out)\n",
    "\n",
    "df"
   ]
  }
 ],
 "metadata": {
  "kernelspec": {
   "display_name": "Python 3 (ipykernel)",
   "language": "python",
   "name": "python3"
  },
  "language_info": {
   "codemirror_mode": {
    "name": "ipython",
    "version": 3
   },
   "file_extension": ".py",
   "mimetype": "text/x-python",
   "name": "python",
   "nbconvert_exporter": "python",
   "pygments_lexer": "ipython3",
   "version": "3.11.2"
  }
 },
 "nbformat": 4,
 "nbformat_minor": 5
}
